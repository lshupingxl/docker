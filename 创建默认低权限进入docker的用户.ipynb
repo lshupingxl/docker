{
 "cells": [
  {
   "cell_type": "markdown",
   "metadata": {},
   "source": [
    "## 创建默认进入docker且低权限的用户"
   ]
  },
  {
   "cell_type": "markdown",
   "metadata": {},
   "source": [
    "1，正常进入一个普通容器并修改root密码。root密码牢记，以后切换到高低权限需要\n",
    "sudo docker run -it --name lsptest 93fd78260bd1 /bin/bash"
   ]
  },
  {
   "cell_type": "markdown",
   "metadata": {},
   "source": [
    "2，在容器内创建一个普通的用户test1 \n",
    "root@43631499c8d2:/# useradd test1"
   ]
  },
  {
   "cell_type": "markdown",
   "metadata": {},
   "source": [
    "3, 在容器中将test1权限降级"
   ]
  },
  {
   "cell_type": "markdown",
   "metadata": {},
   "source": [
    "4，将容器打包成新的镜像 \n",
    "sudo docker commit -m '提交的说明信息' -a '指定更新的用户信息' 创建镜像的容器ID  新镜像的仓库名:tag信息"
   ]
  },
  {
   "cell_type": "markdown",
   "metadata": {},
   "source": [
    "5， Base新镜像,以--user test1运行一个新容器 sudo docker run -it --user test1 镜像ID /bin/bash"
   ]
  },
  {
   "cell_type": "markdown",
   "metadata": {},
   "source": [
    "6， 将新容器打包为最终的的镜像 \n",
    "sudo docker commit -m '提交的说明信息' -a '指定更新的用户信息' 创建镜像的容器ID  新镜像的仓库名:tag信息"
   ]
  },
  {
   "cell_type": "markdown",
   "metadata": {},
   "source": [
    "7，Base新镜像，正常run一个容器，就会以默认的test1用户进入 testname@2749205c88f3:/$"
   ]
  }
 ],
 "metadata": {
  "kernelspec": {
   "display_name": "Python 3",
   "language": "python",
   "name": "python3"
  },
  "language_info": {
   "codemirror_mode": {
    "name": "ipython",
    "version": 3
   },
   "file_extension": ".py",
   "mimetype": "text/x-python",
   "name": "python",
   "nbconvert_exporter": "python",
   "pygments_lexer": "ipython3",
   "version": "3.6.7"
  }
 },
 "nbformat": 4,
 "nbformat_minor": 2
}
